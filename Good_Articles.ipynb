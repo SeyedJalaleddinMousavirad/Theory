{
  "nbformat": 4,
  "nbformat_minor": 0,
  "metadata": {
    "colab": {
      "provenance": [],
      "authorship_tag": "ABX9TyMB32EvURVYjzJJI4aBThVe",
      "include_colab_link": true
    },
    "kernelspec": {
      "name": "python3",
      "display_name": "Python 3"
    },
    "language_info": {
      "name": "python"
    }
  },
  "cells": [
    {
      "cell_type": "markdown",
      "metadata": {
        "id": "view-in-github",
        "colab_type": "text"
      },
      "source": [
        "<a href=\"https://colab.research.google.com/github/SeyedJalaleddinMousavirad/Theory/blob/main/Good_Articles.ipynb\" target=\"_parent\"><img src=\"https://colab.research.google.com/assets/colab-badge.svg\" alt=\"Open In Colab\"/></a>"
      ]
    },
    {
      "cell_type": "code",
      "execution_count": null,
      "metadata": {
        "id": "57Pdugf7a2UT"
      },
      "outputs": [],
      "source": []
    },
    {
      "cell_type": "markdown",
      "source": [
        "YOLOv8 Vehicle Tracking and Counting Solution\n",
        "\n",
        "\n",
        "https://www.linkedin.com/comm/pulse/yolov8-vehicle-tracking-countingsolution-ritesh-kanjee?lipi=urn%3Ali%3Apage%3Aemail_email_series_follow_newsletter_01%3BgTuL8k6RQFOjELtTf%2B%2BXkg%3D%3D&midToken=AQFtIFvS87TIUA&midSig=1j_9rmS-glfaE1&trk=eml-email_series_follow_newsletter_01-newsletter_content_preview-0-title_&trkEmail=eml-email_series_follow_newsletter_01-newsletter_content_preview-0-title_-null-36lkr7~ldycuc6k~69-null-null&eid=36lkr7-ldycuc6k-69"
      ],
      "metadata": {
        "id": "W54XxQv5a3m4"
      }
    }
  ]
}